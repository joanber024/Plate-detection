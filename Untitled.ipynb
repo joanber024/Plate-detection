{
 "cells": [
  {
   "cell_type": "code",
   "execution_count": 3,
   "id": "1988599b",
   "metadata": {},
   "outputs": [],
   "source": [
    "import cv2\n",
    "import os\n",
    "import numpy as np\n",
    "import utils"
   ]
  },
  {
   "cell_type": "code",
   "execution_count": 5,
   "id": "0160dcec",
   "metadata": {},
   "outputs": [],
   "source": [
    "def read_dataset(path_dir: str):\n",
    "    images = []\n",
    "    for file in os.listdir(path_dir):\n",
    "        filename = os.path.join(path_dir, file)\n",
    "        img = cv2.imread(filename)\n",
    "        images.append(img)\n",
    "    return images"
   ]
  },
  {
   "cell_type": "code",
   "execution_count": 36,
   "id": "4ee729a5",
   "metadata": {},
   "outputs": [],
   "source": [
    "images = read_dataset(\"Lateral\")"
   ]
  },
  {
   "cell_type": "code",
   "execution_count": 37,
   "id": "88d08bb2",
   "metadata": {},
   "outputs": [],
   "source": [
    "import torch\n",
    "from ultralytics import YOLO\n",
    "\n",
    "model = YOLO(\"placa.pt\")"
   ]
  },
  {
   "cell_type": "code",
   "execution_count": 38,
   "id": "595bcc14",
   "metadata": {},
   "outputs": [
    {
     "name": "stdout",
     "output_type": "stream",
     "text": [
      "\n",
      "0: 640x640 1 pl_license_plate, 63.3ms\n",
      "1: 640x640 1 pl_license_plate, 63.3ms\n",
      "2: 640x640 1 pl_license_plate, 63.3ms\n",
      "3: 640x640 1 pl_license_plate, 63.3ms\n",
      "4: 640x640 1 pl_license_plate, 63.3ms\n",
      "5: 640x640 1 pl_license_plate, 63.3ms\n",
      "6: 640x640 1 pl_license_plate, 63.3ms\n",
      "7: 640x640 1 pl_license_plate, 63.3ms\n",
      "8: 640x640 1 pl_license_plate, 63.3ms\n",
      "9: 640x640 1 pl_license_plate, 63.3ms\n",
      "10: 640x640 1 pl_license_plate, 63.3ms\n",
      "11: 640x640 2 pl_license_plates, 63.3ms\n",
      "12: 640x640 1 pl_license_plate, 63.3ms\n",
      "13: 640x640 1 pl_license_plate, 63.3ms\n",
      "14: 640x640 1 pl_license_plate, 63.3ms\n",
      "15: 640x640 2 pl_license_plates, 63.3ms\n",
      "16: 640x640 1 pl_license_plate, 63.3ms\n",
      "17: 640x640 1 pl_license_plate, 63.3ms\n",
      "Speed: 3.8ms preprocess, 63.3ms inference, 0.4ms postprocess per image at shape (1, 3, 640, 640)\n"
     ]
    }
   ],
   "source": [
    "results = model(images)\n",
    "results[0].show()"
   ]
  }
 ],
 "metadata": {
  "kernelspec": {
   "display_name": "Python 3 (ipykernel)",
   "language": "python",
   "name": "python3"
  },
  "language_info": {
   "codemirror_mode": {
    "name": "ipython",
    "version": 3
   },
   "file_extension": ".py",
   "mimetype": "text/x-python",
   "name": "python",
   "nbconvert_exporter": "python",
   "pygments_lexer": "ipython3",
   "version": "3.9.12"
  }
 },
 "nbformat": 4,
 "nbformat_minor": 5
}
