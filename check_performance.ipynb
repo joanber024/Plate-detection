{
 "cells": [
  {
   "cell_type": "code",
   "execution_count": 6,
   "id": "6234e950-3af2-4d41-9d0a-6d52fb690bca",
   "metadata": {},
   "outputs": [],
   "source": [
    "import cv2\n",
    "import os\n",
    "import numpy as np\n",
    "import utils\n",
    "import torch\n",
    "from ultralytics import YOLO"
   ]
  },
  {
   "cell_type": "code",
   "execution_count": 2,
   "id": "3f978a70-af04-46b4-80fa-ec83bc341a3c",
   "metadata": {},
   "outputs": [],
   "source": [
    "def read_dataset(path_dir: str):\n",
    "    images = []\n",
    "    for file in os.listdir(path_dir):\n",
    "        filename = os.path.join(path_dir, file)\n",
    "        img = cv2.imread(filename)\n",
    "        images.append(img)\n",
    "    return images"
   ]
  },
  {
   "cell_type": "code",
   "execution_count": 3,
   "id": "81400b7a-2979-48e4-979e-49b2fe784e31",
   "metadata": {},
   "outputs": [],
   "source": [
    "images = read_dataset(\"Lateral\")"
   ]
  },
  {
   "cell_type": "code",
   "execution_count": 5,
   "id": "c78bcbf3-15cb-4049-a904-d3c958ab2282",
   "metadata": {},
   "outputs": [],
   "source": [
    "model = YOLO(\"best_model_1.pt\")"
   ]
  },
  {
   "cell_type": "code",
   "execution_count": 15,
   "id": "d6a7e257-3ef9-4680-82aa-1e93467a16c4",
   "metadata": {},
   "outputs": [
    {
     "name": "stdout",
     "output_type": "stream",
     "text": [
      "\n",
      "0: 448x448 1 license_plate, 10.9ms\n",
      "1: 448x448 1 license_plate, 10.9ms\n",
      "2: 448x448 1 license_plate, 10.9ms\n",
      "3: 448x448 1 license_plate, 10.9ms\n",
      "4: 448x448 2 license_plates, 10.9ms\n",
      "5: 448x448 1 license_plate, 10.9ms\n",
      "6: 448x448 1 license_plate, 10.9ms\n",
      "7: 448x448 2 license_plates, 10.9ms\n",
      "8: 448x448 1 license_plate, 10.9ms\n",
      "9: 448x448 1 license_plate, 10.9ms\n",
      "10: 448x448 1 license_plate, 10.9ms\n",
      "11: 448x448 1 license_plate, 10.9ms\n",
      "12: 448x448 1 license_plate, 10.9ms\n",
      "13: 448x448 1 license_plate, 10.9ms\n",
      "14: 448x448 1 license_plate, 10.9ms\n",
      "15: 448x448 1 license_plate, 10.9ms\n",
      "16: 448x448 1 license_plate, 10.9ms\n",
      "17: 448x448 1 license_plate, 10.9ms\n",
      "Speed: 3.4ms preprocess, 10.9ms inference, 0.7ms postprocess per image at shape (1, 3, 448, 448)\n"
     ]
    }
   ],
   "source": [
    "results = model(images)\n",
    "\n",
    "count=0\n",
    "for result in results:\n",
    "    boxes = result.boxes  # Boxes object for bounding box outputs\n",
    "    masks = result.masks  # Masks object for segmentation masks outputs\n",
    "    keypoints = result.keypoints  # Keypoints object for pose outputs\n",
    "    probs = result.probs  # Probs object for classification outputs\n",
    "    obb = result.obb  # Oriented boxes object for OBB outputs\n",
    "    result.show()  # display to screen\n",
    "    name=os.path.join('predictions', str(count)+'.jpg')\n",
    "    result.save(filename=name)  # save to disk\n",
    "    count+=1"
   ]
  }
 ],
 "metadata": {
  "kernelspec": {
   "display_name": "Python 3 (ipykernel)",
   "language": "python",
   "name": "python3"
  },
  "language_info": {
   "codemirror_mode": {
    "name": "ipython",
    "version": 3
   },
   "file_extension": ".py",
   "mimetype": "text/x-python",
   "name": "python",
   "nbconvert_exporter": "python",
   "pygments_lexer": "ipython3",
   "version": "3.12.5"
  }
 },
 "nbformat": 4,
 "nbformat_minor": 5
}
