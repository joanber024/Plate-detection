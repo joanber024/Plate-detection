{
 "cells": [
  {
   "cell_type": "code",
   "execution_count": 1,
   "id": "326036d9",
   "metadata": {},
   "outputs": [],
   "source": [
    "import cv2\n",
    "import os\n",
    "import numpy as np"
   ]
  },
  {
   "cell_type": "code",
   "execution_count": 76,
   "id": "742a653a",
   "metadata": {},
   "outputs": [],
   "source": [
    "def read_dataset(path_dir: str):\n",
    "    images = []\n",
    "    for file in os.listdir(path_dir):\n",
    "        filename = os.path.join(path_dir, file)\n",
    "        print(file)\n",
    "        img = cv2.imread(filename)\n",
    "        images.append(img)\n",
    "    return images\n",
    "\n",
    "def filter_contours(img):\n",
    "    img = cv2.cvtColor(img, cv2.COLOR_BGR2GRAY)\n",
    "    (_,img) = cv2.threshold(img,0,255,cv2.THRESH_BINARY+cv2.THRESH_OTSU)\n",
    "    contours, hierachy = cv2.findContours(img, cv2.RETR_EXTERNAL, cv2.CHAIN_APPROX_SIMPLE)\n",
    "    filtered_contours= []\n",
    "    height, width = img.shape\n",
    "    for c in contours:\n",
    "        area = cv2.contourArea(c)\n",
    "        x, y, w, h = cv2.boundingRect(c)\n",
    "        if(x == 0 or y == 0 or x+w == width or y+h == height):\n",
    "            continue\n",
    "        else:\n",
    "            if(area>700 and area<30000):\n",
    "                c = np.squeeze(c)\n",
    "                xmax, xmin = np.max(c[:,0]), np.min(c[:,0])\n",
    "                ymax, ymin = np.max(c[:,1]), np.min(c[:,1])\n",
    "                prop = (ymax-ymin)/(xmax-xmin)\n",
    "                if (prop>1.5 and prop<7):\n",
    "                    filtered_contours.append(c)\n",
    "    return filtered_contours[::-1]\n",
    "\n",
    "def get_segmented_characters(imgs : list):\n",
    "    img_count = 1\n",
    "    PATH_DIR = os.path.join('Results','segmented_characters')\n",
    "    for img in imgs:\n",
    "        f_conts = filter_contours(img)\n",
    "        c_count = 1\n",
    "        for c in f_conts:\n",
    "            c = np.squeeze(c)\n",
    "            xmax, xmin = np.max(c[:,0]), np.min(c[:,0])\n",
    "            ymax, ymin = np.max(c[:,1]), np.min(c[:,1])\n",
    "            output_image = img[ymin:ymax, xmin:xmax]\n",
    "            RES_DIR = os.path.join(PATH_DIR, 'image'+str(img_count))\n",
    "            if not os.path.isdir(RES_DIR):\n",
    "                os.mkdir(RES_DIR)\n",
    "            name = os.path.join(RES_DIR, str(c_count)+'.jpg')\n",
    "            cv2.imwrite(name, output_image)\n",
    "            c_count+=1\n",
    "        img_count+=1"
   ]
  },
  {
   "cell_type": "code",
   "execution_count": 72,
   "id": "03deb1ea",
   "metadata": {},
   "outputs": [
    {
     "name": "stdout",
     "output_type": "stream",
     "text": [
      "19.5 0.75\n",
      "1.5 0.5\n",
      "90.5 0.2903225806451613\n",
      "68.0 0.21951219512195122\n",
      "28147.5 0.17755443886097153\n",
      "3.0 0.16666666666666666\n",
      "30.5 0.35\n",
      "36.5 2.4\n",
      "295.0 2.642857142857143\n",
      "14.0 1.4\n",
      "1.0 1.0\n",
      "5689.5 2.175\n",
      "8013.0 2.380281690140845\n",
      "4620.5 2.242857142857143\n",
      "6.0 1.0\n",
      "124.0 4.375\n",
      "5.5 6.0\n",
      "6175.0 2.4285714285714284\n",
      "55.5 0.6153846153846154\n",
      "3176.0 3.1794871794871793\n",
      "3493.5 2.6785714285714284\n",
      "245.0 0.1\n",
      "26.0 0.125\n",
      "6.0 0.4\n",
      "3.0 0.1\n",
      "2.0 0.1111111111111111\n",
      "3593.5 2.7636363636363637\n",
      "1841.0 6.0\n",
      "1.5 0.5\n",
      "0.5 0.5\n",
      "1.0 0.3333333333333333\n",
      "12.0 0.10344827586206896\n",
      "6.0 0.4\n",
      "1.0 2.0\n",
      "18.5 0.1111111111111111\n",
      "11.5 0.14285714285714285\n",
      "95.5 0.09523809523809523\n",
      "4.0 0.07142857142857142\n",
      "113.5 0.14285714285714285\n",
      "2476.0 0.03151862464183381\n",
      "16428.0 0.0776255707762557\n",
      "883.0 3.15\n"
     ]
    }
   ],
   "source": [
    "img_color = cv2.cvtColor(imgs[1], cv2.COLOR_BGR2GRAY)\n",
    "(_,img) = cv2.threshold(img_color,0,255,cv2.THRESH_BINARY+cv2.THRESH_OTSU)\n",
    "contours, hierachy = cv2.findContours(img, cv2.RETR_EXTERNAL, cv2.CHAIN_APPROX_SIMPLE)\n",
    "for i,c in enumerate(contours):\n",
    "    area = cv2.contourArea(c)\n",
    "    c = np.squeeze(c)\n",
    "    xmax, xmin = np.max(c[:,0]), np.min(c[:,0])\n",
    "    ymax, ymin = np.max(c[:,1]), np.min(c[:,1])\n",
    "    prop = (ymax-ymin)/(xmax-xmin)\n",
    "    if(area>0):\n",
    "        print(area, prop)\n",
    "        imagen_con_contorno = imgs[1].copy()\n",
    "        cv2.drawContours(imagen_con_contorno, [c], -1, (0, 255, 0), 2)\n",
    "        cv2.imshow(f'Contorno {i+1}', imagen_con_contorno)\n",
    "        cv2.waitKey(0)\n",
    "        cv2.destroyWindow(f'Contorno {i+1}')\n",
    "\n",
    "# Destruir todas las ventanas una vez se han mostrado todos los contornos\n",
    "cv2.destroyAllWindows()"
   ]
  },
  {
   "cell_type": "code",
   "execution_count": 77,
   "id": "428368ac",
   "metadata": {},
   "outputs": [
    {
     "name": "stdout",
     "output_type": "stream",
     "text": [
      "01.jpg\n",
      "02.jpg\n",
      "03.jpg\n",
      "04.jpg\n",
      "05.jpg\n",
      "06.jpg\n",
      "07.jpg\n",
      "08.jpg\n",
      "09.jpg\n",
      "10.jpg\n",
      "11.jpg\n",
      "12.jpg\n",
      "13.jpg\n",
      "14.jpg\n",
      "15.jpg\n",
      "16.jpg\n",
      "17.jpg\n"
     ]
    }
   ],
   "source": [
    "imgs = read_dataset('Results/binarized')\n"
   ]
  },
  {
   "cell_type": "code",
   "execution_count": 78,
   "id": "9ab5f605-61d6-48be-8844-17329e468d76",
   "metadata": {},
   "outputs": [],
   "source": [
    "get_segmented_characters(imgs)\n"
   ]
  },
  {
   "cell_type": "code",
   "execution_count": 66,
   "id": "fa5bad4e",
   "metadata": {},
   "outputs": [
    {
     "name": "stdout",
     "output_type": "stream",
     "text": [
      "(356, 784)\n"
     ]
    }
   ],
   "source": [
    "img = cv2.cvtColor(imgs[1], cv2.COLOR_BGR2GRAY)\n",
    "print(img.shape)\n",
    "\n",
    "cv2.imshow('Contours', img)\n",
    "cv2.waitKey(0)\n",
    "cv2.destroyAllWindows()   "
   ]
  },
  {
   "cell_type": "code",
   "execution_count": 18,
   "id": "09581fc2-aeef-497a-b77a-e026d60aeedc",
   "metadata": {},
   "outputs": [],
   "source": [
    "f_conts = filter_countours(imgs[0])"
   ]
  },
  {
   "cell_type": "code",
   "execution_count": null,
   "id": "c8cfbbda-d60d-40c9-a558-86359a005d8f",
   "metadata": {},
   "outputs": [
    {
     "name": "stdout",
     "output_type": "stream",
     "text": [
      "1.6607142857142858\n"
     ]
    }
   ],
   "source": [
    "img = imgs[2]\n",
    "f_conts = filter_contours(img)\n",
    "\n",
    "for c in f_conts:\n",
    "    c = np.squeeze(c)\n",
    "    xmax, xmin = np.max(c[:,0]), np.min(c[:,0])\n",
    "    ymax, ymin = np.max(c[:,1]), np.min(c[:,1])\n",
    "    print((ymax-ymin)/(xmax-xmin))\n",
    "    output_image = img[ymin:ymax, xmin:xmax]\n",
    "    cv2.imshow('Selected Pixels', output_image)\n",
    "    cv2.waitKey(0)\n",
    "    cv2.destroyAllWindows()"
   ]
  },
  {
   "cell_type": "code",
   "execution_count": 14,
   "id": "76ad2387",
   "metadata": {},
   "outputs": [
    {
     "name": "stdout",
     "output_type": "stream",
     "text": [
      "(286, 2)\n",
      "(187, 2)\n",
      "(174, 2)\n",
      "(198, 2)\n",
      "(222, 2)\n",
      "(166, 2)\n",
      "(143, 2)\n"
     ]
    }
   ],
   "source": [
    "img=imgs[0]\n",
    "for c in f_conts:\n",
    "    c = np.squeeze(c)\n",
    "    #c = c.reshape(c.shape[0], c.shape[2])\n",
    "    print(c.shape)\n",
    "    output_image = np.zeros_like(img)\n",
    "    x_coords = c[:, 0] \n",
    "    y_coords = c[:, 1]\n",
    "    output_image[y_coords, x_coords] = img[y_coords, x_coords]\n",
    "    cv2.imshow('Selected Pixels', output_image)\n",
    "    cv2.waitKey(0)\n",
    "    cv2.destroyAllWindows()"
   ]
  },
  {
   "cell_type": "code",
   "execution_count": 18,
   "id": "9c4786b9",
   "metadata": {},
   "outputs": [],
   "source": [
    "for img in imgs:\n",
    "    img = cv2.cvtColor(img, cv2.COLOR_BGR2GRAY)\n",
    "    contours, hierachy = cv2.findContours(img, cv2.RETR_TREE, cv2.CHAIN_APPROX_SIMPLE)\n",
    "    cv2.drawContours(img, contours, -1, (0, 255, 0), 3) \n",
    "    cv2.imshow('Contours', img)\n",
    "    cv2.waitKey(0)\n",
    "    cv2.destroyAllWindows()   "
   ]
  }
 ],
 "metadata": {
  "kernelspec": {
   "display_name": "Python 3 (ipykernel)",
   "language": "python",
   "name": "python3"
  },
  "language_info": {
   "codemirror_mode": {
    "name": "ipython",
    "version": 3
   },
   "file_extension": ".py",
   "mimetype": "text/x-python",
   "name": "python",
   "nbconvert_exporter": "python",
   "pygments_lexer": "ipython3",
   "version": "3.9.12"
  }
 },
 "nbformat": 4,
 "nbformat_minor": 5
}
