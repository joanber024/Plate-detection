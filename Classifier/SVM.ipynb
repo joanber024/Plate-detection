{
 "cells": [
  {
   "cell_type": "code",
   "execution_count": 2,
   "metadata": {},
   "outputs": [],
   "source": [
    "import pandas\n",
    "import cv2\n",
    "import os\n",
    "from keras_preprocessing.image import ImageDataGenerator\n",
    "import numpy as np\n",
    "import scipy\n"
   ]
  },
  {
   "cell_type": "code",
   "execution_count": 3,
   "metadata": {},
   "outputs": [],
   "source": [
    "PATH_TO_ORIGINAL_IMAGE_DIRECTORY = \"../CharactersPlate\"\n",
    "THRESHOLD = 127\n",
    "WINDOW_SIZE = 1000"
   ]
  },
  {
   "cell_type": "code",
   "execution_count": 4,
   "metadata": {},
   "outputs": [],
   "source": [
    "def rename_files(dir_path):\n",
    "    for filename in os.listdir(dir_path):\n",
    "        full_path = os.path.join(dir_path, filename)\n",
    "        name, extension = os.path.splitext(filename)\n",
    "        new_filename = name[-1] + extension\n",
    "        new_path = os.path.join(dir_path, new_filename)\n",
    "        os.rename(full_path, new_path)\n",
    "\n",
    "#rename_files(PATH_TO_ORIGINAL_IMAGE_DIRECTORY)"
   ]
  },
  {
   "cell_type": "code",
   "execution_count": 5,
   "metadata": {},
   "outputs": [],
   "source": [
    "def show_image_on_window(image: np.array, window_name: str = \"Image\") -> None:\n",
    "    scale = max(image.shape[:2]) / WINDOW_SIZE\n",
    "    cv2.namedWindow(window_name, cv2.WINDOW_NORMAL)\n",
    "    cv2.resizeWindow(window_name, int(\n",
    "        image.shape[1] // scale), int(image.shape[0] // scale))\n",
    "    cv2.imshow(window_name, image)\n",
    "    cv2.waitKey(3000)\n",
    "    cv2.destroyWindow(window_name)"
   ]
  },
  {
   "cell_type": "code",
   "execution_count": 6,
   "metadata": {},
   "outputs": [],
   "source": [
    "def adapt_image(image):\n",
    "    if len(image.shape) == 3:\n",
    "        image = cv2.cvtColor(image, cv2.COLOR_BGR2GRAY)\n",
    "    _, image_binary = cv2.threshold(image, THRESHOLD, 255, cv2.THRESH_BINARY)\n",
    "    return image_binary/255"
   ]
  },
  {
   "cell_type": "code",
   "execution_count": 7,
   "metadata": {},
   "outputs": [],
   "source": [
    "def load_images(dir_path):\n",
    "        images = []\n",
    "        chars = []\n",
    "        for file_name in os.listdir(dir_path):\n",
    "                name, extension = os.path.splitext(file_name)\n",
    "                if extension == \".png\":\n",
    "                        original_image = cv2.imread(dir_path + \"/\" + file_name)\n",
    "                        binary_image = adapt_image(original_image)\n",
    "                        images.append(binary_image)\n",
    "                        chars.append(name)\n",
    "        return np.array(images), np.array(chars)"
   ]
  },
  {
   "cell_type": "code",
   "execution_count": 8,
   "metadata": {},
   "outputs": [],
   "source": [
    "X, Y = load_images(PATH_TO_ORIGINAL_IMAGE_DIRECTORY)"
   ]
  },
  {
   "cell_type": "markdown",
   "metadata": {},
   "source": [
    "DATA AUGMENTATION"
   ]
  },
  {
   "cell_type": "code",
   "execution_count": 16,
   "metadata": {},
   "outputs": [],
   "source": [
    "datagen = ImageDataGenerator(\n",
    "    rotation_range=10,\n",
    "    width_shift_range=0.1,\n",
    "    height_shift_range=0.1,\n",
    "    shear_range=0.05,\n",
    "    zoom_range=0.05,\n",
    "    fill_mode='nearest'\n",
    ")"
   ]
  },
  {
   "cell_type": "code",
   "execution_count": 17,
   "metadata": {},
   "outputs": [],
   "source": [
    "X = X.reshape((X.shape[0], X.shape[1], X.shape[2], 1))\n",
    "datagen.fit(X)"
   ]
  },
  {
   "cell_type": "code",
   "execution_count": 18,
   "metadata": {},
   "outputs": [],
   "source": [
    "def gen_aug_images(X, y, dir_path, num_aug_img=100):\n",
    "    tag_count = {}\n",
    "    \n",
    "    for image, tag in zip(X, y):\n",
    "        tag_str = str(tag)\n",
    "        if tag_str not in tag_count:\n",
    "            tag_count[tag_str] = 0\n",
    "        image = np.expand_dims(image, axis=0)\n",
    "        i = 0\n",
    "        for batch in datagen.flow(image, batch_size=1):\n",
    "            tag_count[tag_str] += 1\n",
    "            filename = f\"{tag_str}_{tag_count[tag_str]}.png\"\n",
    "            full_path = os.path.join(dir_path, filename)\n",
    "            bin_img = (batch[0] > 0.5).astype(np.uint8) * 255\n",
    "            cv2.imwrite(full_path, bin_img)\n",
    "            i += 1\n",
    "            if i >= num_aug_img:\n",
    "                break \n",
    "\n",
    "\n",
    "gen_aug_images(X, Y, PATH_TO_ORIGINAL_IMAGE_DIRECTORY)\n"
   ]
  }
 ],
 "metadata": {
  "kernelspec": {
   "display_name": "Python 3",
   "language": "python",
   "name": "python3"
  },
  "language_info": {
   "codemirror_mode": {
    "name": "ipython",
    "version": 3
   },
   "file_extension": ".py",
   "mimetype": "text/x-python",
   "name": "python",
   "nbconvert_exporter": "python",
   "pygments_lexer": "ipython3",
   "version": "3.11.9"
  }
 },
 "nbformat": 4,
 "nbformat_minor": 2
}
