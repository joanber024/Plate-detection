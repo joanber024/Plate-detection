{
 "cells": [
  {
   "cell_type": "code",
   "execution_count": 3,
   "id": "6234e950-3af2-4d41-9d0a-6d52fb690bca",
   "metadata": {},
   "outputs": [
    {
     "ename": "ModuleNotFoundError",
     "evalue": "No module named 'ultralytics'",
     "output_type": "error",
     "traceback": [
      "\u001b[1;31m---------------------------------------------------------------------------\u001b[0m",
      "\u001b[1;31mModuleNotFoundError\u001b[0m                       Traceback (most recent call last)",
      "Cell \u001b[1;32mIn[3], line 6\u001b[0m\n\u001b[0;32m      4\u001b[0m \u001b[38;5;66;03m# import utils\u001b[39;00m\n\u001b[0;32m      5\u001b[0m \u001b[38;5;28;01mimport\u001b[39;00m \u001b[38;5;21;01mtorch\u001b[39;00m\n\u001b[1;32m----> 6\u001b[0m \u001b[38;5;28;01mfrom\u001b[39;00m \u001b[38;5;21;01multralytics\u001b[39;00m \u001b[38;5;28;01mimport\u001b[39;00m YOLO\n",
      "\u001b[1;31mModuleNotFoundError\u001b[0m: No module named 'ultralytics'"
     ]
    }
   ],
   "source": [
    "import cv2\n",
    "import os\n",
    "import numpy as np\n",
    "# import utils\n",
    "import torch\n",
    "from ultralytics import YOLO"
   ]
  },
  {
   "cell_type": "code",
   "execution_count": 3,
   "id": "3f978a70-af04-46b4-80fa-ec83bc341a3c",
   "metadata": {},
   "outputs": [],
   "source": [
    "def read_dataset(path_dir: str):\n",
    "    images = []\n",
    "    for file in os.listdir(path_dir):\n",
    "        filename = os.path.join(path_dir, file)\n",
    "        img = cv2.imread(filename)\n",
    "        images.append(img)\n",
    "    return images"
   ]
  },
  {
   "cell_type": "code",
   "execution_count": 4,
   "id": "81400b7a-2979-48e4-979e-49b2fe784e31",
   "metadata": {},
   "outputs": [],
   "source": [
    "images = read_dataset(\"Lateral\")"
   ]
  },
  {
   "cell_type": "code",
   "execution_count": 5,
   "id": "c78bcbf3-15cb-4049-a904-d3c958ab2282",
   "metadata": {},
   "outputs": [],
   "source": [
    "model = YOLO(\"best_model_1.pt\")"
   ]
  },
  {
   "cell_type": "code",
   "execution_count": 43,
   "id": "d6a7e257-3ef9-4680-82aa-1e93467a16c4",
   "metadata": {},
   "outputs": [
    {
     "name": "stdout",
     "output_type": "stream",
     "text": [
      "\n",
      "0: 448x448 1 license_plate, 29.8ms\n",
      "1: 448x448 1 license_plate, 29.8ms\n",
      "2: 448x448 1 license_plate, 29.8ms\n",
      "3: 448x448 1 license_plate, 29.8ms\n",
      "4: 448x448 2 license_plates, 29.8ms\n",
      "5: 448x448 1 license_plate, 29.8ms\n",
      "6: 448x448 1 license_plate, 29.8ms\n",
      "7: 448x448 2 license_plates, 29.8ms\n",
      "8: 448x448 1 license_plate, 29.8ms\n",
      "9: 448x448 1 license_plate, 29.8ms\n",
      "10: 448x448 1 license_plate, 29.8ms\n",
      "11: 448x448 1 license_plate, 29.8ms\n",
      "12: 448x448 1 license_plate, 29.8ms\n",
      "13: 448x448 1 license_plate, 29.8ms\n",
      "14: 448x448 1 license_plate, 29.8ms\n",
      "15: 448x448 1 license_plate, 29.8ms\n",
      "16: 448x448 1 license_plate, 29.8ms\n",
      "17: 448x448 1 license_plate, 29.8ms\n",
      "Speed: 1.7ms preprocess, 29.8ms inference, 0.4ms postprocess per image at shape (1, 3, 448, 448)\n"
     ]
    }
   ],
   "source": [
    "results = model(images)\n",
    "\n",
    "count=0\n",
    "for result in results:\n",
    "    \n",
    "    ##Get and save image result\n",
    "    name=os.path.join('predictions', str(count)+'.jpg')\n",
    "    result.save(filename=name)  # save to disk\n",
    "    \n",
    "    ##Crop box and disk save\n",
    "    boxes = result.boxes  # Boxes object for bounding box outputs\n",
    "    im=images[count]\n",
    "    xyxy = np.array(boxes.xyxy, dtype='int32')[0] #Coordinates\n",
    "    cropped_image = im[xyxy[1]:xyxy[3], xyxy[0]:xyxy[2]]\n",
    "    name2=os.path.join('cropped_results_t', str(count)+'.jpg')\n",
    "    cv2.imwrite(name2, cropped_image)\n",
    "    count+=1"
   ]
  },
  {
   "cell_type": "code",
   "execution_count": 33,
   "id": "29134452",
   "metadata": {},
   "outputs": [],
   "source": [
    "xyxy = np.array(results[0].boxes.xyxy, dtype='int32')[0]\n",
    "im1=images[0]\n",
    "im1recortada = im1[xyxy[1]:xyxy[3], xyxy[0]:xyxy[2]]"
   ]
  },
  {
   "cell_type": "code",
   "execution_count": 40,
   "id": "3f3b12e5",
   "metadata": {},
   "outputs": [
    {
     "data": {
      "text/plain": [
       "-1"
      ]
     },
     "execution_count": 40,
     "metadata": {},
     "output_type": "execute_result"
    }
   ],
   "source": [
    "cv2.imshow('YOLO V8 Detection', im1recortada) \n",
    "cv2.waitKey()"
   ]
  }
 ],
 "metadata": {
  "kernelspec": {
   "display_name": "Python 3 (ipykernel)",
   "language": "python",
   "name": "python3"
  },
  "language_info": {
   "codemirror_mode": {
    "name": "ipython",
    "version": 3
   },
   "file_extension": ".py",
   "mimetype": "text/x-python",
   "name": "python",
   "nbconvert_exporter": "python",
   "pygments_lexer": "ipython3",
   "version": "3.12.5"
  }
 },
 "nbformat": 4,
 "nbformat_minor": 5
}
