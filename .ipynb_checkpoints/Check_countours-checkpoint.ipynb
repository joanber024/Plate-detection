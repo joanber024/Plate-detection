{
 "cells": [
  {
   "cell_type": "code",
   "execution_count": 3,
   "id": "326036d9",
   "metadata": {},
   "outputs": [],
   "source": [
    "import cv2\n",
    "import os\n",
    "import numpy as np"
   ]
  },
  {
   "cell_type": "code",
   "execution_count": 7,
   "id": "742a653a",
   "metadata": {},
   "outputs": [],
   "source": [
    "def read_dataset(path_dir: str):\n",
    "    images = []\n",
    "    for file in os.listdir(path_dir):\n",
    "        filename = os.path.join(path_dir, file)\n",
    "        img = cv2.imread(filename)\n",
    "        images.append(img)\n",
    "    return images\n",
    "\n",
    "def filter_contours(img):\n",
    "    img = cv2.cvtColor(img, cv2.COLOR_BGR2GRAY)\n",
    "    (_,img) = cv2.threshold(img,0,255,cv2.THRESH_BINARY+cv2.THRESH_OTSU)\n",
    "    contours, hierachy = cv2.findContours(img, cv2.RETR_EXTERNAL, cv2.CHAIN_APPROX_SIMPLE)\n",
    "    filtered_contours= []\n",
    "    for c in contours:\n",
    "        area = cv2.contourArea(c)\n",
    "        if(area>700 and area<30000):\n",
    "            c = np.squeeze(c)\n",
    "            xmax, xmin = np.max(c[:,0]), np.min(c[:,0])\n",
    "            ymax, ymin = np.max(c[:,1]), np.min(c[:,1])\n",
    "            prop = (ymax-ymin)/(xmax-xmin)\n",
    "            if (prop>1 and prop<4):\n",
    "                filtered_contours.append(c)\n",
    "    return filtered_contours\n",
    "\n",
    "def get_segmented_characters(imgs : list):\n",
    "    img_count = 1\n",
    "    for img in imgs:\n",
    "        f_conts = filter_contours(img)\n",
    "        c_count = 1\n",
    "        for c in f_conts:\n",
    "            c = np.squeeze(c)\n",
    "            xmax, xmin = np.max(c[:,0]), np.min(c[:,0])\n",
    "            ymax, ymin = np.max(c[:,1]), np.min(c[:,1])\n",
    "            output_image = img[ymin:ymax, xmin:xmax]\n",
    "            name = os.path.join('Results','segmented_characters', 'image'+str(img_count)+'_'+str(c_count)+'.jpg')\n",
    "            cv2.imwrite(name, output_image)\n",
    "            c_count+=1\n",
    "        img_count+=1"
   ]
  },
  {
   "cell_type": "code",
   "execution_count": 5,
   "id": "428368ac",
   "metadata": {},
   "outputs": [],
   "source": [
    "imgs = read_dataset('Results/binarized')\n"
   ]
  },
  {
   "cell_type": "code",
   "execution_count": 8,
   "id": "9ab5f605-61d6-48be-8844-17329e468d76",
   "metadata": {},
   "outputs": [],
   "source": [
    "get_segmented_characters(imgs)\n"
   ]
  },
  {
   "cell_type": "code",
   "execution_count": null,
   "id": "fa5bad4e",
   "metadata": {},
   "outputs": [],
   "source": [
    "img = cv2.cvtColor(imgs[0], cv2.COLOR_BGR2GRAY)\n",
    "\n",
    "cv2.imshow('Contours', img)\n",
    "cv2.waitKey(0)\n",
    "cv2.destroyAllWindows()   "
   ]
  },
  {
   "cell_type": "code",
   "execution_count": 18,
   "id": "09581fc2-aeef-497a-b77a-e026d60aeedc",
   "metadata": {},
   "outputs": [],
   "source": [
    "f_conts = filter_countours(imgs[0])"
   ]
  },
  {
   "cell_type": "code",
   "execution_count": null,
   "id": "c8cfbbda-d60d-40c9-a558-86359a005d8f",
   "metadata": {},
   "outputs": [
    {
     "name": "stdout",
     "output_type": "stream",
     "text": [
      "1.6607142857142858\n"
     ]
    }
   ],
   "source": [
    "img = imgs[2]\n",
    "f_conts = filter_contours(img)\n",
    "\n",
    "for c in f_conts:\n",
    "    c = np.squeeze(c)\n",
    "    xmax, xmin = np.max(c[:,0]), np.min(c[:,0])\n",
    "    ymax, ymin = np.max(c[:,1]), np.min(c[:,1])\n",
    "    print((ymax-ymin)/(xmax-xmin))\n",
    "    output_image = img[ymin:ymax, xmin:xmax]\n",
    "    cv2.imshow('Selected Pixels', output_image)\n",
    "    cv2.waitKey(0)\n",
    "    cv2.destroyAllWindows()"
   ]
  },
  {
   "cell_type": "code",
   "execution_count": 14,
   "id": "76ad2387",
   "metadata": {},
   "outputs": [
    {
     "name": "stdout",
     "output_type": "stream",
     "text": [
      "(286, 2)\n",
      "(187, 2)\n",
      "(174, 2)\n",
      "(198, 2)\n",
      "(222, 2)\n",
      "(166, 2)\n",
      "(143, 2)\n"
     ]
    }
   ],
   "source": [
    "img=imgs[0]\n",
    "for c in f_conts:\n",
    "    c = np.squeeze(c)\n",
    "    #c = c.reshape(c.shape[0], c.shape[2])\n",
    "    print(c.shape)\n",
    "    output_image = np.zeros_like(img)\n",
    "    x_coords = c[:, 0] \n",
    "    y_coords = c[:, 1]\n",
    "    output_image[y_coords, x_coords] = img[y_coords, x_coords]\n",
    "    cv2.imshow('Selected Pixels', output_image)\n",
    "    cv2.waitKey(0)\n",
    "    cv2.destroyAllWindows()"
   ]
  },
  {
   "cell_type": "code",
   "execution_count": 18,
   "id": "9c4786b9",
   "metadata": {},
   "outputs": [],
   "source": [
    "for img in imgs:\n",
    "    img = cv2.cvtColor(img, cv2.COLOR_BGR2GRAY)\n",
    "    contours, hierachy = cv2.findContours(img, cv2.RETR_TREE, cv2.CHAIN_APPROX_SIMPLE)\n",
    "    cv2.drawContours(img, contours, -1, (0, 255, 0), 3) \n",
    "    cv2.imshow('Contours', img)\n",
    "    cv2.waitKey(0)\n",
    "    cv2.destroyAllWindows()   "
   ]
  }
 ],
 "metadata": {
  "kernelspec": {
   "display_name": "Python 3 (ipykernel)",
   "language": "python",
   "name": "python3"
  },
  "language_info": {
   "codemirror_mode": {
    "name": "ipython",
    "version": 3
   },
   "file_extension": ".py",
   "mimetype": "text/x-python",
   "name": "python",
   "nbconvert_exporter": "python",
   "pygments_lexer": "ipython3",
   "version": "3.12.5"
  }
 },
 "nbformat": 4,
 "nbformat_minor": 5
}
