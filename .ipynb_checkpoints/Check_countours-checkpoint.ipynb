{
 "cells": [
  {
   "cell_type": "code",
   "execution_count": 44,
   "id": "326036d9",
   "metadata": {},
   "outputs": [],
   "source": [
    "import cv2\n",
    "import os\n",
    "import numpy as np"
   ]
  },
  {
   "cell_type": "code",
   "execution_count": 35,
   "id": "742a653a",
   "metadata": {},
   "outputs": [],
   "source": [
    "def read_dataset(path_dir: str):\n",
    "    images = []\n",
    "    for file in os.listdir(path_dir):\n",
    "        filename = os.path.join(path_dir, file)\n",
    "        img = cv2.imread(filename)\n",
    "        images.append(img)\n",
    "    return images"
   ]
  },
  {
   "cell_type": "code",
   "execution_count": 36,
   "id": "428368ac",
   "metadata": {},
   "outputs": [],
   "source": [
    "imgs = read_dataset('Results/binarized')"
   ]
  },
  {
   "cell_type": "code",
   "execution_count": 92,
   "id": "fa5bad4e",
   "metadata": {},
   "outputs": [],
   "source": [
    "img = cv2.cvtColor(imgs[2], cv2.COLOR_BGR2GRAY)\n",
    "\n",
    "cv2.imshow('Contours', img)\n",
    "cv2.waitKey(0)\n",
    "cv2.destroyAllWindows()   "
   ]
  },
  {
   "cell_type": "code",
   "execution_count": 121,
   "id": "21b86357",
   "metadata": {
    "scrolled": true
   },
   "outputs": [
    {
     "name": "stdout",
     "output_type": "stream",
     "text": [
      "7959.0\n",
      "6601.5\n",
      "12006.5\n",
      "7856.0\n",
      "7212.0\n",
      "3411.0\n",
      "3929.5\n",
      "9370.5\n"
     ]
    }
   ],
   "source": [
    "img = cv2.cvtColor(imgs[1], cv2.COLOR_BGR2GRAY)\n",
    "(_,img) = cv2.threshold(img,0,255,cv2.THRESH_BINARY+cv2.THRESH_OTSU)\n",
    "contours, hierachy = cv2.findContours(img, cv2.RETR_EXTERNAL, cv2.CHAIN_APPROX_SIMPLE)\n",
    "filtered_contours= []\n",
    "for c in contours:\n",
    "    area = cv2.contourArea(c)\n",
    "    x, y, w, h = cv2.boundingRect(c)\n",
    "    if(area>700 and area<30000) and (h / w > 1):\n",
    "        print(area)\n",
    "        filtered_contours.append(c)"
   ]
  },
  {
   "cell_type": "code",
   "execution_count": 122,
   "id": "e90f6f48",
   "metadata": {},
   "outputs": [
    {
     "data": {
      "text/plain": [
       "8"
      ]
     },
     "execution_count": 122,
     "metadata": {},
     "output_type": "execute_result"
    }
   ],
   "source": [
    "len(filtered_contours)"
   ]
  },
  {
   "cell_type": "code",
   "execution_count": 123,
   "id": "76ad2387",
   "metadata": {},
   "outputs": [
    {
     "name": "stdout",
     "output_type": "stream",
     "text": [
      "(168, 2)\n",
      "(322, 2)\n",
      "(152, 2)\n",
      "(203, 2)\n",
      "(217, 2)\n",
      "(230, 2)\n",
      "(216, 2)\n",
      "(628, 2)\n"
     ]
    }
   ],
   "source": [
    "img=imgs[1]\n",
    "for c in filtered_contours:\n",
    "    c = np.squeeze(c)\n",
    "    #c = c.reshape(c.shape[0], c.shape[2])\n",
    "    print(c.shape)\n",
    "    output_image = np.zeros_like(img)\n",
    "    x_coords = c[:, 0] \n",
    "    y_coords = c[:, 1]\n",
    "    output_image[y_coords, x_coords] = img[y_coords, x_coords]\n",
    "    cv2.imshow('Selected Pixels', output_image)\n",
    "    cv2.waitKey(0)\n",
    "    cv2.destroyAllWindows()"
   ]
  },
  {
   "cell_type": "code",
   "execution_count": 18,
   "id": "9c4786b9",
   "metadata": {},
   "outputs": [],
   "source": [
    "for img in imgs:\n",
    "    img = cv2.cvtColor(img, cv2.COLOR_BGR2GRAY)\n",
    "    contours, hierachy = cv2.findContours(img, cv2.RETR_TREE, cv2.CHAIN_APPROX_SIMPLE)\n",
    "    cv2.drawContours(img, contours, -1, (0, 255, 0), 3) \n",
    "    cv2.imshow('Contours', img)\n",
    "    cv2.waitKey(0)\n",
    "    cv2.destroyAllWindows()   "
   ]
  }
 ],
 "metadata": {
  "kernelspec": {
   "display_name": "Python 3 (ipykernel)",
   "language": "python",
   "name": "python3"
  },
  "language_info": {
   "codemirror_mode": {
    "name": "ipython",
    "version": 3
   },
   "file_extension": ".py",
   "mimetype": "text/x-python",
   "name": "python",
   "nbconvert_exporter": "python",
   "pygments_lexer": "ipython3",
   "version": "3.12.5"
  }
 },
 "nbformat": 4,
 "nbformat_minor": 5
}
